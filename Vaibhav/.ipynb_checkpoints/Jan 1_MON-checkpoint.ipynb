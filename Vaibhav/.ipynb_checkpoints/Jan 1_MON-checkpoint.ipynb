{
 "cells": [
  {
   "cell_type": "code",
   "execution_count": 3,
   "metadata": {},
   "outputs": [],
   "source": [
    "import csv, datetime, pandas as pd"
   ]
  },
  {
   "cell_type": "markdown",
   "metadata": {},
   "source": [
    "##Read data for January 1"
   ]
  },
  {
   "cell_type": "code",
   "execution_count": 21,
   "metadata": {},
   "outputs": [
    {
     "name": "stdout",
     "output_type": "stream",
     "text": [
      "timestamp         datetime64[ns]\n",
      "src                       object\n",
      "src_port                   int64\n",
      "protocol                  object\n",
      "signature                 object\n",
      "direction                  int64\n",
      "transport                 object\n",
      "app                       object\n",
      "vendor_product            object\n",
      "sensor                    object\n",
      "type                      object\n",
      "severity                  object\n",
      "dtype: object\n"
     ]
    }
   ],
   "source": [
    "file = 'C:\\\\Users\\\\vaibhav\\\\Documents\\\\UVA\\\\Summer\\\\Project\\\\Code\\\\HoneypotCSV\\\\2018-01-01-mhn.csv'\n",
    "\n",
    "parse_dates = ['timestamp']\n",
    "data = pd.read_csv(file, parse_dates = parse_dates, date_parser = lambda x: datetime.datetime.fromtimestamp(float(x)))\n",
    "pd.to_datetime(data['timestamp'])\n",
    "print(data.dtypes)"
   ]
  },
  {
   "cell_type": "markdown",
   "metadata": {},
   "source": [
    "Finding out unique sources"
   ]
  },
  {
   "cell_type": "code",
   "execution_count": 6,
   "metadata": {},
   "outputs": [
    {
     "name": "stdout",
     "output_type": "stream",
     "text": [
      "996\n"
     ]
    }
   ],
   "source": [
    "unique_src = data.src.unique()\n",
    "print(len(unique_src))"
   ]
  },
  {
   "cell_type": "markdown",
   "metadata": {},
   "source": [
    "Unique ip sources frequency table"
   ]
  },
  {
   "cell_type": "code",
   "execution_count": 22,
   "metadata": {},
   "outputs": [
    {
     "name": "stdout",
     "output_type": "stream",
     "text": [
      "        Unique src  Count\n",
      "452  185.107.94.10    374\n",
      "622   207.38.90.73    346\n",
      "900    77.72.82.72    316\n",
      "972   93.115.26.45    144\n",
      "714  222.72.41.178     96\n"
     ]
    }
   ],
   "source": [
    "df = data.groupby('src').size().reset_index(name='Count').rename(columns={'src':'Unique src'}).sort_values('Count', ascending = False)\n",
    "print(df.head())"
   ]
  },
  {
   "cell_type": "raw",
   "metadata": {},
   "source": [
    "Top hitting app"
   ]
  },
  {
   "cell_type": "code",
   "execution_count": 8,
   "metadata": {},
   "outputs": [
    {
     "name": "stdout",
     "output_type": "stream",
     "text": [
      "  Unique app  Count\n",
      "1    dionaea   3193\n",
      "0       amun    260\n"
     ]
    }
   ],
   "source": [
    "df = data.groupby('app').size().reset_index(name='Count').rename(columns={'app':'Unique app'}).sort_values('Count', ascending = False)\n",
    "print(df)"
   ]
  },
  {
   "cell_type": "markdown",
   "metadata": {},
   "source": [
    "Grouping by timestamp"
   ]
  },
  {
   "cell_type": "code",
   "execution_count": 25,
   "metadata": {},
   "outputs": [
    {
     "name": "stdout",
     "output_type": "stream",
     "text": [
      "            timestamp  Count\n",
      "0 2017-12-31 06:53:22      1\n",
      "1 2017-12-31 06:54:22      1\n",
      "2 2017-12-31 06:55:02      1\n",
      "3 2017-12-31 06:55:12      2\n",
      "4 2017-12-31 06:55:42      1\n"
     ]
    }
   ],
   "source": [
    "df = data.groupby('timestamp').size().reset_index(name='Count')\n",
    "print(df.head())"
   ]
  },
  {
   "cell_type": "code",
   "execution_count": 32,
   "metadata": {},
   "outputs": [
    {
     "name": "stdout",
     "output_type": "stream",
     "text": [
      "    Hour  Count\n",
      "0    0.0     90\n",
      "1    1.0     95\n",
      "2    2.0     79\n",
      "3    3.0     72\n",
      "4    4.0     79\n",
      "5    5.0     64\n",
      "6    6.0     77\n",
      "7    7.0    104\n",
      "8    8.0    112\n",
      "9    9.0    111\n",
      "10  10.0    103\n",
      "11  11.0    112\n",
      "12  12.0    102\n",
      "13  13.0    103\n",
      "14  14.0    102\n",
      "15  15.0    106\n",
      "16  16.0     97\n",
      "17  17.0     91\n",
      "18  18.0     78\n",
      "19  19.0     74\n",
      "20  20.0     88\n",
      "21  21.0     83\n",
      "22  22.0     89\n",
      "23  23.0     85\n"
     ]
    }
   ],
   "source": [
    "time_series = data.groupby(df.timestamp.dt.hour).size().reset_index(name='Count').rename(columns={'timestamp':'Hour'})\n",
    "print(time_series)"
   ]
  },
  {
   "cell_type": "markdown",
   "metadata": {},
   "source": [
    "Bar chart of time stamp count"
   ]
  },
  {
   "cell_type": "code",
   "execution_count": 34,
   "metadata": {},
   "outputs": [
    {
     "data": {
      "text/plain": [
       "<matplotlib.axes._subplots.AxesSubplot at 0x23c6378e9b0>"
      ]
     },
     "execution_count": 34,
     "metadata": {},
     "output_type": "execute_result"
    },
    {
     "data": {
      "image/png": "[encoded data removed]",
      "text/plain": [
       "<Figure size 432x288 with 1 Axes>"
      ]
     },
     "metadata": {},
     "output_type": "display_data"
    }
   ],
   "source": [
    "time_series.plot(kind='bar', x = 'Hour', y = 'Count')"
   ]
  }
 ],
 "metadata": {
  "kernelspec": {
   "display_name": "Python 3",
   "language": "python",
   "name": "python3"
  },
  "language_info": {
   "codemirror_mode": {
    "name": "ipython",
    "version": 3
   },
   "file_extension": ".py",
   "mimetype": "text/x-python",
   "name": "python",
   "nbconvert_exporter": "python",
   "pygments_lexer": "ipython3",
   "version": "3.6.5"
  }
 },
 "nbformat": 4,
 "nbformat_minor": 2
}
