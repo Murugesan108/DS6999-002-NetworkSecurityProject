{
 "cells": [
  {
   "cell_type": "code",
   "execution_count": 21,
   "metadata": {},
   "outputs": [],
   "source": [
    "import csv, pandas as pd"
   ]
  },
  {
   "cell_type": "markdown",
   "metadata": {},
   "source": [
    "Read data"
   ]
  },
  {
   "cell_type": "code",
   "execution_count": 41,
   "metadata": {},
   "outputs": [
    {
     "name": "stdout",
     "output_type": "stream",
     "text": [
      "               timestamp              src  src_port protocol  \\\n",
      "0    2018-03-01 06:51:37   195.154.42.164     56738       ip   \n",
      "1    2018-03-01 06:51:37   195.154.42.164     56738       ip   \n",
      "2    2018-03-01 06:52:27     77.72.82.135     55905       ip   \n",
      "3    2018-03-01 06:52:37   200.158.89.238     45858       ip   \n",
      "4    2018-03-01 06:53:27  191.101.167.235     51020       ip   \n",
      "5    2018-03-01 06:54:27    187.10.110.27     43434       ip   \n",
      "6    2018-03-01 06:55:07   195.154.42.164     57133       ip   \n",
      "7    2018-03-01 06:55:07   195.154.42.164     57133       ip   \n",
      "8    2018-03-01 06:55:27  134.119.213.195      5304       ip   \n",
      "9    2018-03-01 06:56:37     5.188.11.111     57580       ip   \n",
      "10   2018-03-01 06:56:47    96.83.210.203     40470       ip   \n",
      "11   2018-03-01 06:57:48      77.72.82.98     42023       ip   \n",
      "12   2018-03-01 06:58:28   195.154.42.164     57527       ip   \n",
      "13   2018-03-01 06:58:28   195.154.42.164     57527       ip   \n",
      "14   2018-03-01 06:59:08       77.72.82.7     47290       ip   \n",
      "15   2018-03-01 06:59:18  191.101.167.250     49486       ip   \n",
      "16   2018-03-01 07:01:18   181.21.225.209     16052       ip   \n",
      "17   2018-03-01 07:01:38   195.154.42.164     57922       ip   \n",
      "18   2018-03-01 07:01:38   195.154.42.164     57922       ip   \n",
      "19   2018-03-01 07:01:48     113.7.233.22     38355       ip   \n",
      "20   2018-03-01 07:02:58   43.241.145.119     54500       ip   \n",
      "21   2018-03-01 07:04:58   195.154.42.164     50197       ip   \n",
      "22   2018-03-01 07:04:58   195.154.42.164     50197       ip   \n",
      "23   2018-03-01 07:04:58     77.72.82.135     55905       ip   \n",
      "24   2018-03-01 07:07:28     212.129.30.1      5084       ip   \n",
      "25   2018-03-01 07:08:18   195.154.42.164     57008       ip   \n",
      "26   2018-03-01 07:08:18   195.154.42.164     57008       ip   \n",
      "27   2018-03-01 07:08:28     5.188.10.144     49743       ip   \n",
      "28   2018-03-01 07:08:28     5.188.11.111     57580       ip   \n",
      "29   2018-03-01 07:08:48   158.69.244.114      5076       ip   \n",
      "...                  ...              ...       ...      ...   \n",
      "1689 2018-03-01 19:58:26    93.115.27.169      5095       ip   \n",
      "1690 2018-03-01 19:58:26    93.115.27.169      5095       ip   \n",
      "1691 2018-03-01 19:58:36       5.188.9.25     50099       ip   \n",
      "1692 2018-03-01 19:58:56   195.154.42.164     56385       ip   \n",
      "1693 2018-03-01 19:58:56   195.154.42.164     56385       ip   \n",
      "1694 2018-03-01 20:01:57   195.154.42.164     55222       ip   \n",
      "1695 2018-03-01 20:01:57   195.154.42.164     55222       ip   \n",
      "1696 2018-03-01 20:02:37     80.82.77.139     24185       ip   \n",
      "1697 2018-03-01 20:03:27       77.72.82.7     51274       ip   \n",
      "1698 2018-03-01 20:03:37     77.72.82.135     54030       ip   \n",
      "1699 2018-03-01 20:03:47      77.72.82.80     45281       ip   \n",
      "1700 2018-03-01 20:04:07   110.138.233.15     64476       ip   \n",
      "1701 2018-03-01 20:04:27       77.72.82.7     51274       ip   \n",
      "1702 2018-03-01 20:04:27     77.72.82.135     55159       ip   \n",
      "1703 2018-03-01 20:04:57   195.154.42.164     54074       ip   \n",
      "1704 2018-03-01 20:04:57   195.154.42.164     54074       ip   \n",
      "1705 2018-03-01 20:07:57   212.237.40.127      5099       ip   \n",
      "1706 2018-03-01 20:08:07   195.154.42.164     59249       ip   \n",
      "1707 2018-03-01 20:08:07   195.154.42.164     59249       ip   \n",
      "1708 2018-03-01 20:08:27    181.214.87.14     50991       ip   \n",
      "1709 2018-03-01 20:09:07      77.72.82.96     56679       ip   \n",
      "1710 2018-03-01 20:09:27   114.95.155.140     51251       ip   \n",
      "1711 2018-03-01 20:09:37     38.142.184.2     39794       ip   \n",
      "1712 2018-03-01 20:09:57      77.72.82.96     56679       ip   \n",
      "1713 2018-03-01 20:10:47   216.93.208.148     21519       ip   \n",
      "1714 2018-03-01 20:11:17   195.154.42.164     61269       ip   \n",
      "1715 2018-03-01 20:11:17   195.154.42.164     61269       ip   \n",
      "1716 2018-03-01 20:11:47   178.73.215.171     36870       ip   \n",
      "1717 2018-03-01 20:13:37     5.188.10.108     47493       ip   \n",
      "1718 2018-03-01 20:13:47     116.25.81.12      3752       ip   \n",
      "\n",
      "                   signature  direction transport      app vendor_product  \\\n",
      "0     Connection to Honeypot          0       tcp  dionaea        Dionaea   \n",
      "1     Connection to Honeypot          0       tcp  dionaea        Dionaea   \n",
      "2     Connection to Honeypot          0       tcp  dionaea        Dionaea   \n",
      "3     Connection to Honeypot          0       tcp  dionaea        Dionaea   \n",
      "4     Connection to Honeypot          0       tcp  dionaea        Dionaea   \n",
      "5     Connection to Honeypot          0       tcp  dionaea        Dionaea   \n",
      "6     Connection to Honeypot          0       tcp  dionaea        Dionaea   \n",
      "7     Connection to Honeypot          0       tcp  dionaea        Dionaea   \n",
      "8     Connection to Honeypot          0       tcp  dionaea        Dionaea   \n",
      "9     Connection to Honeypot          0       tcp  dionaea        Dionaea   \n",
      "10    Connection to Honeypot          0       tcp  dionaea        Dionaea   \n",
      "11    Connection to Honeypot          0       tcp  dionaea        Dionaea   \n",
      "12    Connection to Honeypot          0       tcp  dionaea        Dionaea   \n",
      "13    Connection to Honeypot          0       tcp  dionaea        Dionaea   \n",
      "14    Connection to Honeypot          0       tcp  dionaea        Dionaea   \n",
      "15    Connection to Honeypot          0       tcp  dionaea        Dionaea   \n",
      "16    Connection to Honeypot          0       tcp  dionaea        Dionaea   \n",
      "17    Connection to Honeypot          0       tcp  dionaea        Dionaea   \n",
      "18    Connection to Honeypot          0       tcp  dionaea        Dionaea   \n",
      "19    Connection to Honeypot          0       tcp     amun           Amun   \n",
      "20    Connection to Honeypot          0       tcp  dionaea        Dionaea   \n",
      "21    Connection to Honeypot          0       tcp  dionaea        Dionaea   \n",
      "22    Connection to Honeypot          0       tcp  dionaea        Dionaea   \n",
      "23    Connection to Honeypot          0       tcp  dionaea        Dionaea   \n",
      "24    Connection to Honeypot          0       tcp  dionaea        Dionaea   \n",
      "25    Connection to Honeypot          0       tcp  dionaea        Dionaea   \n",
      "26    Connection to Honeypot          0       tcp  dionaea        Dionaea   \n",
      "27    Connection to Honeypot          0       tcp  dionaea        Dionaea   \n",
      "28    Connection to Honeypot          0       tcp  dionaea        Dionaea   \n",
      "29    Connection to Honeypot          0       tcp  dionaea        Dionaea   \n",
      "...                      ...        ...       ...      ...            ...   \n",
      "1689  Connection to Honeypot          0       tcp  dionaea        Dionaea   \n",
      "1690  Connection to Honeypot          0       tcp  dionaea        Dionaea   \n",
      "1691  Connection to Honeypot          0       tcp  dionaea        Dionaea   \n",
      "1692  Connection to Honeypot          0       tcp  dionaea        Dionaea   \n",
      "1693  Connection to Honeypot          0       tcp  dionaea        Dionaea   \n",
      "1694  Connection to Honeypot          0       tcp  dionaea        Dionaea   \n",
      "1695  Connection to Honeypot          0       tcp  dionaea        Dionaea   \n",
      "1696  Connection to Honeypot          0       tcp  dionaea        Dionaea   \n",
      "1697  Connection to Honeypot          0       tcp  dionaea        Dionaea   \n",
      "1698  Connection to Honeypot          0       tcp  dionaea        Dionaea   \n",
      "1699  Connection to Honeypot          0       tcp  dionaea        Dionaea   \n",
      "1700  Connection to Honeypot          0       tcp  dionaea        Dionaea   \n",
      "1701  Connection to Honeypot          0       tcp  dionaea        Dionaea   \n",
      "1702  Connection to Honeypot          0       tcp  dionaea        Dionaea   \n",
      "1703  Connection to Honeypot          0       tcp  dionaea        Dionaea   \n",
      "1704  Connection to Honeypot          0       tcp  dionaea        Dionaea   \n",
      "1705  Connection to Honeypot          0       tcp  dionaea        Dionaea   \n",
      "1706  Connection to Honeypot          0       tcp  dionaea        Dionaea   \n",
      "1707  Connection to Honeypot          0       tcp  dionaea        Dionaea   \n",
      "1708  Connection to Honeypot          0       tcp  dionaea        Dionaea   \n",
      "1709  Connection to Honeypot          0       tcp  dionaea        Dionaea   \n",
      "1710  Connection to Honeypot          0       tcp  dionaea        Dionaea   \n",
      "1711  Connection to Honeypot          0       tcp     amun           Amun   \n",
      "1712  Connection to Honeypot          0       tcp  dionaea        Dionaea   \n",
      "1713  Connection to Honeypot          0       tcp  dionaea        Dionaea   \n",
      "1714  Connection to Honeypot          0       tcp  dionaea        Dionaea   \n",
      "1715  Connection to Honeypot          0       tcp  dionaea        Dionaea   \n",
      "1716  Connection to Honeypot          0       tcp  dionaea        Dionaea   \n",
      "1717  Connection to Honeypot          0       tcp  dionaea        Dionaea   \n",
      "1718  Connection to Honeypot          0       tcp  dionaea        Dionaea   \n",
      "\n",
      "                                    sensor                 type severity  \n",
      "0     94826a7c-d6dd-11e7-832e-623361396534  dionaea.connections     high  \n",
      "1     94826a7c-d6dd-11e7-832e-623361396534  dionaea.connections     high  \n",
      "2     94826a7c-d6dd-11e7-832e-623361396534  dionaea.connections     high  \n",
      "3     94826a7c-d6dd-11e7-832e-623361396534  dionaea.connections     high  \n",
      "4     94826a7c-d6dd-11e7-832e-623361396534  dionaea.connections     high  \n",
      "5     94826a7c-d6dd-11e7-832e-623361396534  dionaea.connections     high  \n",
      "6     94826a7c-d6dd-11e7-832e-623361396534  dionaea.connections     high  \n",
      "7     94826a7c-d6dd-11e7-832e-623361396534  dionaea.connections     high  \n",
      "8     94826a7c-d6dd-11e7-832e-623361396534  dionaea.connections     high  \n",
      "9     94826a7c-d6dd-11e7-832e-623361396534  dionaea.connections     high  \n",
      "10    94826a7c-d6dd-11e7-832e-623361396534  dionaea.connections     high  \n",
      "11    94826a7c-d6dd-11e7-832e-623361396534  dionaea.connections     high  \n",
      "12    94826a7c-d6dd-11e7-832e-623361396534  dionaea.connections     high  \n",
      "13    94826a7c-d6dd-11e7-832e-623361396534  dionaea.connections     high  \n",
      "14    94826a7c-d6dd-11e7-832e-623361396534  dionaea.connections     high  \n",
      "15    94826a7c-d6dd-11e7-832e-623361396534  dionaea.connections     high  \n",
      "16    94826a7c-d6dd-11e7-832e-623361396534  dionaea.connections     high  \n",
      "17    94826a7c-d6dd-11e7-832e-623361396534  dionaea.connections     high  \n",
      "18    94826a7c-d6dd-11e7-832e-623361396534  dionaea.connections     high  \n",
      "19    1d290c0a-d481-11e7-a8aa-623361396534          amun.events     high  \n",
      "20    94826a7c-d6dd-11e7-832e-623361396534  dionaea.connections     high  \n",
      "21    94826a7c-d6dd-11e7-832e-623361396534  dionaea.connections     high  \n",
      "22    94826a7c-d6dd-11e7-832e-623361396534  dionaea.connections     high  \n",
      "23    94826a7c-d6dd-11e7-832e-623361396534  dionaea.connections     high  \n",
      "24    94826a7c-d6dd-11e7-832e-623361396534  dionaea.connections     high  \n",
      "25    94826a7c-d6dd-11e7-832e-623361396534  dionaea.connections     high  \n",
      "26    94826a7c-d6dd-11e7-832e-623361396534  dionaea.connections     high  \n",
      "27    94826a7c-d6dd-11e7-832e-623361396534  dionaea.connections     high  \n",
      "28    94826a7c-d6dd-11e7-832e-623361396534  dionaea.connections     high  \n",
      "29    94826a7c-d6dd-11e7-832e-623361396534  dionaea.connections     high  \n",
      "...                                    ...                  ...      ...  \n",
      "1689  94826a7c-d6dd-11e7-832e-623361396534  dionaea.connections     high  \n",
      "1690  94826a7c-d6dd-11e7-832e-623361396534  dionaea.connections     high  \n",
      "1691  94826a7c-d6dd-11e7-832e-623361396534  dionaea.connections     high  \n",
      "1692  94826a7c-d6dd-11e7-832e-623361396534  dionaea.connections     high  \n",
      "1693  94826a7c-d6dd-11e7-832e-623361396534  dionaea.connections     high  \n",
      "1694  94826a7c-d6dd-11e7-832e-623361396534  dionaea.connections     high  \n",
      "1695  94826a7c-d6dd-11e7-832e-623361396534  dionaea.connections     high  \n",
      "1696  94826a7c-d6dd-11e7-832e-623361396534  dionaea.connections     high  \n",
      "1697  94826a7c-d6dd-11e7-832e-623361396534  dionaea.connections     high  \n",
      "1698  94826a7c-d6dd-11e7-832e-623361396534  dionaea.connections     high  \n",
      "1699  94826a7c-d6dd-11e7-832e-623361396534  dionaea.connections     high  \n",
      "1700  94826a7c-d6dd-11e7-832e-623361396534  dionaea.connections     high  \n",
      "1701  94826a7c-d6dd-11e7-832e-623361396534  dionaea.connections     high  \n",
      "1702  94826a7c-d6dd-11e7-832e-623361396534  dionaea.connections     high  \n",
      "1703  94826a7c-d6dd-11e7-832e-623361396534  dionaea.connections     high  \n",
      "1704  94826a7c-d6dd-11e7-832e-623361396534  dionaea.connections     high  \n",
      "1705  94826a7c-d6dd-11e7-832e-623361396534  dionaea.connections     high  \n",
      "1706  94826a7c-d6dd-11e7-832e-623361396534  dionaea.connections     high  \n",
      "1707  94826a7c-d6dd-11e7-832e-623361396534  dionaea.connections     high  \n",
      "1708  94826a7c-d6dd-11e7-832e-623361396534  dionaea.connections     high  \n",
      "1709  94826a7c-d6dd-11e7-832e-623361396534  dionaea.connections     high  \n",
      "1710  94826a7c-d6dd-11e7-832e-623361396534  dionaea.connections     high  \n",
      "1711  1d290c0a-d481-11e7-a8aa-623361396534          amun.events     high  \n",
      "1712  94826a7c-d6dd-11e7-832e-623361396534  dionaea.connections     high  \n",
      "1713  94826a7c-d6dd-11e7-832e-623361396534  dionaea.connections     high  \n",
      "1714  94826a7c-d6dd-11e7-832e-623361396534  dionaea.connections     high  \n",
      "1715  94826a7c-d6dd-11e7-832e-623361396534  dionaea.connections     high  \n",
      "1716  94826a7c-d6dd-11e7-832e-623361396534  dionaea.connections     high  \n",
      "1717  94826a7c-d6dd-11e7-832e-623361396534  dionaea.connections     high  \n",
      "1718  94826a7c-d6dd-11e7-832e-623361396534  dionaea.connections     high  \n",
      "\n",
      "[1719 rows x 12 columns]\n"
     ]
    }
   ],
   "source": [
    "file = 'C:\\\\Users\\\\vaibhav\\\\Documents\\\\UVA\\\\Summer\\\\Project\\\\Code\\\\Vaibhav\\\\HoneypotCSV\\\\2018-05-28-mhn.csv'\n",
    "\n",
    "parse_dates = ['timestamp']\n",
    "data = pd.read_csv(file, parse_dates=parse_dates)\n",
    "pd.to_datetime(data['timestamp'], format='%Y-%b  %d %H:%M:%S')\n",
    "print(data)"
   ]
  },
  {
   "cell_type": "markdown",
   "metadata": {},
   "source": [
    "Finding out unique sources"
   ]
  },
  {
   "cell_type": "code",
   "execution_count": 37,
   "metadata": {},
   "outputs": [
    {
     "name": "stdout",
     "output_type": "stream",
     "text": [
      "451\n"
     ]
    }
   ],
   "source": [
    "unique_src = data.src.unique()\n",
    "print(len(unique_src))"
   ]
  },
  {
   "cell_type": "code",
   "execution_count": null,
   "metadata": {},
   "outputs": [],
   "source": [
    "Unique ip sources frequency table"
   ]
  },
  {
   "cell_type": "code",
   "execution_count": 38,
   "metadata": {},
   "outputs": [
    {
     "name": "stdout",
     "output_type": "stream",
     "text": [
      "          Unique src  Count\n",
      "242   195.154.42.164    516\n",
      "344    5.140.211.165    123\n",
      "444    93.115.27.169     41\n",
      "332      42.51.44.27     40\n",
      "408      77.72.82.96     32\n",
      "358       5.188.9.25     31\n",
      "153    181.214.87.12     30\n",
      "401     77.72.82.135     29\n",
      "173  185.143.223.153     28\n",
      "402     77.72.82.147     25\n",
      "348     5.188.11.111     24\n",
      "36    111.67.192.197     23\n",
      "154    181.214.87.14     22\n",
      "406      77.72.82.80     20\n",
      "351      5.188.11.25     19\n",
      "409      77.72.82.98     18\n",
      "405       77.72.82.7     18\n",
      "228  191.101.167.235     17\n",
      "404      77.72.82.57     16\n",
      "407      77.72.82.92     16\n",
      "111   163.172.159.86     13\n",
      "331    42.202.133.28     12\n",
      "178   185.222.210.20     11\n",
      "277     212.129.30.1     11\n",
      "176   185.153.197.55      9\n",
      "438    89.248.168.14      9\n",
      "229  191.101.167.250      9\n",
      "85   134.119.213.195      7\n",
      "276   208.100.26.228      6\n",
      "359      5.39.217.84      6\n",
      "..               ...    ...\n",
      "129   177.68.111.238      1\n",
      "128   177.45.176.210      1\n",
      "127   177.189.155.99      1\n",
      "126  177.189.144.251      1\n",
      "148    180.97.106.39      1\n",
      "149   180.97.238.163      1\n",
      "150    181.139.93.86      1\n",
      "151   181.21.225.209      1\n",
      "183    185.35.62.251      1\n",
      "182    185.35.62.150      1\n",
      "181    185.35.62.133      1\n",
      "180   185.232.29.198      1\n",
      "179   185.232.28.194      1\n",
      "177  185.169.229.220      1\n",
      "174  185.143.223.156      1\n",
      "171  185.143.223.105      1\n",
      "170  185.100.222.117      1\n",
      "169   184.64.167.234      1\n",
      "168    184.22.146.91      1\n",
      "167  184.105.247.223      1\n",
      "166  184.105.247.196      1\n",
      "165   184.105.139.70      1\n",
      "164  184.105.139.103      1\n",
      "163  183.239.192.165      1\n",
      "162  183.234.219.228      1\n",
      "161   183.177.151.41      1\n",
      "160   183.15.180.212      1\n",
      "158   182.100.67.118      1\n",
      "155   181.214.87.223      1\n",
      "450    96.83.210.203      1\n",
      "\n",
      "[451 rows x 2 columns]\n"
     ]
    }
   ],
   "source": [
    "df = data.groupby('src').size().reset_index(name='Count').rename(columns={'src':'Unique src'}).sort_values('Count', ascending = False)\n",
    "print(df)"
   ]
  },
  {
   "cell_type": "markdown",
   "metadata": {},
   "source": [
    "Top hitting app"
   ]
  },
  {
   "cell_type": "code",
   "execution_count": 48,
   "metadata": {},
   "outputs": [
    {
     "name": "stdout",
     "output_type": "stream",
     "text": [
      "  Unique app  Count\n",
      "1    dionaea   1614\n",
      "0       amun    105\n"
     ]
    }
   ],
   "source": [
    "df = data.groupby('app').size().reset_index(name='Count').rename(columns={'app':'Unique app'}).sort_values('Count', ascending = False)\n",
    "print(df)"
   ]
  },
  {
   "cell_type": "code",
   "execution_count": 54,
   "metadata": {},
   "outputs": [
    {
     "name": "stdout",
     "output_type": "stream",
     "text": [
      "               timestamp  Count\n",
      "0    2018-03-01 06:51:37      2\n",
      "1    2018-03-01 06:52:27      1\n",
      "2    2018-03-01 06:52:37      1\n",
      "3    2018-03-01 06:53:27      1\n",
      "4    2018-03-01 06:54:27      1\n",
      "5    2018-03-01 06:55:07      2\n",
      "6    2018-03-01 06:55:27      1\n",
      "7    2018-03-01 06:56:37      1\n",
      "8    2018-03-01 06:56:47      1\n",
      "9    2018-03-01 06:57:48      1\n",
      "10   2018-03-01 06:58:28      2\n",
      "11   2018-03-01 06:59:08      1\n",
      "12   2018-03-01 06:59:18      1\n",
      "13   2018-03-01 07:01:18      1\n",
      "14   2018-03-01 07:01:38      2\n",
      "15   2018-03-01 07:01:48      1\n",
      "16   2018-03-01 07:02:58      1\n",
      "17   2018-03-01 07:04:58      3\n",
      "18   2018-03-01 07:07:28      1\n",
      "19   2018-03-01 07:08:18      2\n",
      "20   2018-03-01 07:08:28      2\n",
      "21   2018-03-01 07:08:48      2\n",
      "22   2018-03-01 07:09:48      1\n",
      "23   2018-03-01 07:11:38      2\n",
      "24   2018-03-01 07:11:48      1\n",
      "25   2018-03-01 07:12:18      1\n",
      "26   2018-03-01 07:13:08      1\n",
      "27   2018-03-01 07:13:38      1\n",
      "28   2018-03-01 07:14:48      2\n",
      "29   2018-03-01 07:17:49      1\n",
      "...                  ...    ...\n",
      "1069 2018-03-01 19:52:36      2\n",
      "1070 2018-03-01 19:52:46      1\n",
      "1071 2018-03-01 19:53:26      2\n",
      "1072 2018-03-01 19:55:46      2\n",
      "1073 2018-03-01 19:56:06      1\n",
      "1074 2018-03-01 19:56:36      1\n",
      "1075 2018-03-01 19:58:06      1\n",
      "1076 2018-03-01 19:58:26      2\n",
      "1077 2018-03-01 19:58:36      1\n",
      "1078 2018-03-01 19:58:56      2\n",
      "1079 2018-03-01 20:01:57      2\n",
      "1080 2018-03-01 20:02:37      1\n",
      "1081 2018-03-01 20:03:27      1\n",
      "1082 2018-03-01 20:03:37      1\n",
      "1083 2018-03-01 20:03:47      1\n",
      "1084 2018-03-01 20:04:07      1\n",
      "1085 2018-03-01 20:04:27      2\n",
      "1086 2018-03-01 20:04:57      2\n",
      "1087 2018-03-01 20:07:57      1\n",
      "1088 2018-03-01 20:08:07      2\n",
      "1089 2018-03-01 20:08:27      1\n",
      "1090 2018-03-01 20:09:07      1\n",
      "1091 2018-03-01 20:09:27      1\n",
      "1092 2018-03-01 20:09:37      1\n",
      "1093 2018-03-01 20:09:57      1\n",
      "1094 2018-03-01 20:10:47      1\n",
      "1095 2018-03-01 20:11:17      2\n",
      "1096 2018-03-01 20:11:47      1\n",
      "1097 2018-03-01 20:13:37      1\n",
      "1098 2018-03-01 20:13:47      1\n",
      "\n",
      "[1099 rows x 2 columns]\n"
     ]
    }
   ],
   "source": [
    "df = data.groupby('timestamp').size().reset_index(name='Count')\n",
    "print(df)"
   ]
  },
  {
   "cell_type": "code",
   "execution_count": 56,
   "metadata": {},
   "outputs": [
    {
     "name": "stdout",
     "output_type": "stream",
     "text": [
      "    Hour  Count\n",
      "0    6.0     13\n",
      "1    7.0     67\n",
      "2    8.0     66\n",
      "3    9.0     90\n",
      "4   10.0     81\n",
      "5   11.0     83\n",
      "6   12.0     84\n",
      "7   13.0     80\n",
      "8   14.0     83\n",
      "9   15.0     81\n",
      "10  16.0     84\n",
      "11  17.0     89\n",
      "12  18.0     83\n",
      "13  19.0     95\n",
      "14  20.0     20\n"
     ]
    }
   ],
   "source": [
    "time_series = data.groupby(df.timestamp.dt.hour).size().reset_index(name='Count').rename(columns={'timestamp':'Hour'})\n",
    "print(time_series)"
   ]
  },
  {
   "cell_type": "markdown",
   "metadata": {},
   "source": [
    "Bar chart of time stamp count"
   ]
  },
  {
   "cell_type": "code",
   "execution_count": 60,
   "metadata": {},
   "outputs": [
    {
     "data": {
      "text/plain": [
       "<matplotlib.axes._subplots.AxesSubplot at 0x1d0e98e3518>"
      ]
     },
     "execution_count": 60,
     "metadata": {},
     "output_type": "execute_result"
    },
    {
     "data": {
      "image/png": "[encoded data removed]",
      "text/plain": [
       "<Figure size 432x288 with 1 Axes>"
      ]
     },
     "metadata": {},
     "output_type": "display_data"
    }
   ],
   "source": [
    "time_series.plot(kind='bar', x = 'Hour', y = 'Count')\n"
   ]
  }
 ],
 "metadata": {
  "kernelspec": {
   "display_name": "Python 3",
   "language": "python",
   "name": "python3"
  },
  "language_info": {
   "codemirror_mode": {
    "name": "ipython",
    "version": 3
   },
   "file_extension": ".py",
   "mimetype": "text/x-python",
   "name": "python",
   "nbconvert_exporter": "python",
   "pygments_lexer": "ipython3",
   "version": "3.6.5"
  }
 },
 "nbformat": 4,
 "nbformat_minor": 2
}
