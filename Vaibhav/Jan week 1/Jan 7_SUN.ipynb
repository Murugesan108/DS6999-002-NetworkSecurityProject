{
 "cells": [
  {
   "cell_type": "code",
   "execution_count": 2,
   "metadata": {},
   "outputs": [],
   "source": [
    "import csv, datetime, pandas as pd"
   ]
  },
  {
   "cell_type": "markdown",
   "metadata": {},
   "source": [
    "# Read data for January 7"
   ]
  },
  {
   "cell_type": "code",
   "execution_count": 7,
   "metadata": {},
   "outputs": [
    {
     "name": "stdout",
     "output_type": "stream",
     "text": [
      "(3509, 12)\n"
     ]
    }
   ],
   "source": [
    "file = 'C:\\\\Users\\\\vaibhav\\\\Documents\\\\UVA\\\\Summer\\\\Project\\\\Code\\\\Vaibhav\\\\HoneypotCSV\\\\2018-01-07-mhn.csv'\n",
    "\n",
    "parse_dates = ['timestamp']\n",
    "data = pd.read_csv(file, parse_dates = parse_dates, date_parser = lambda x: datetime.datetime.fromtimestamp(float(x)))\n",
    "pd.to_datetime(data['timestamp'])\n",
    "print(data.shape)"
   ]
  },
  {
   "cell_type": "markdown",
   "metadata": {},
   "source": [
    "Finding out unique sources"
   ]
  },
  {
   "cell_type": "code",
   "execution_count": 8,
   "metadata": {},
   "outputs": [
    {
     "name": "stdout",
     "output_type": "stream",
     "text": [
      "1000\n"
     ]
    }
   ],
   "source": [
    "unique_src = data.src.unique()\n",
    "print(len(unique_src))"
   ]
  },
  {
   "cell_type": "markdown",
   "metadata": {},
   "source": [
    "Unique ip sources frequency table"
   ]
  },
  {
   "cell_type": "code",
   "execution_count": 9,
   "metadata": {},
   "outputs": [
    {
     "name": "stdout",
     "output_type": "stream",
     "text": [
      "          Unique src  Count\n",
      "467    185.107.94.10    571\n",
      "983     93.115.26.45    326\n",
      "159  121.231.140.225    314\n",
      "686  221.229.204.101     86\n",
      "316     164.52.7.173     84\n"
     ]
    }
   ],
   "source": [
    "df = data.groupby('src').size().reset_index(name='Count').rename(columns={'src':'Unique src'}).sort_values('Count', ascending = False)\n",
    "print(df.head())"
   ]
  },
  {
   "cell_type": "raw",
   "metadata": {},
   "source": [
    "Top hitting app"
   ]
  },
  {
   "cell_type": "code",
   "execution_count": 10,
   "metadata": {},
   "outputs": [
    {
     "name": "stdout",
     "output_type": "stream",
     "text": [
      "  Unique app  Count\n",
      "1    dionaea   3181\n",
      "0       amun    328\n"
     ]
    }
   ],
   "source": [
    "df = data.groupby('app').size().reset_index(name='Count').rename(columns={'app':'Unique app'}).sort_values('Count', ascending = False)\n",
    "print(df)"
   ]
  },
  {
   "cell_type": "markdown",
   "metadata": {},
   "source": [
    "Grouping by timestamp"
   ]
  },
  {
   "cell_type": "code",
   "execution_count": 13,
   "metadata": {},
   "outputs": [
    {
     "name": "stdout",
     "output_type": "stream",
     "text": [
      "            timestamp  Count\n",
      "0 2018-01-06 06:51:07      1\n",
      "1 2018-01-06 06:52:27      1\n",
      "2 2018-01-06 06:52:47      1\n",
      "3 2018-01-06 06:53:17      2\n",
      "4 2018-01-06 06:53:57      1\n"
     ]
    }
   ],
   "source": [
    "df = data.groupby('timestamp').size().reset_index(name='Count')\n",
    "print(df.head())"
   ]
  },
  {
   "cell_type": "code",
   "execution_count": 14,
   "metadata": {},
   "outputs": [
    {
     "name": "stdout",
     "output_type": "stream",
     "text": [
      "    Hour  Count\n",
      "0    0.0     69\n",
      "1    1.0     69\n",
      "2    2.0     68\n",
      "3    3.0     77\n",
      "4    4.0     72\n",
      "5    5.0     72\n",
      "6    6.0     75\n",
      "7    7.0     65\n",
      "8    8.0     98\n",
      "9    9.0    101\n",
      "10  10.0    106\n",
      "11  11.0    113\n",
      "12  12.0     77\n",
      "13  13.0     97\n",
      "14  14.0    111\n",
      "15  15.0     87\n",
      "16  16.0     89\n",
      "17  17.0     83\n",
      "18  18.0     91\n",
      "19  19.0    102\n",
      "20  20.0     83\n",
      "21  21.0     62\n",
      "22  22.0     68\n",
      "23  23.0     80\n"
     ]
    }
   ],
   "source": [
    "time_series = data.groupby(df.timestamp.dt.hour).size().reset_index(name='Count').rename(columns={'timestamp':'Hour'})\n",
    "print(time_series)"
   ]
  },
  {
   "cell_type": "markdown",
   "metadata": {},
   "source": [
    "Bar chart of time stamp count"
   ]
  },
  {
   "cell_type": "code",
   "execution_count": 16,
   "metadata": {},
   "outputs": [
    {
     "data": {
      "text/plain": [
       "<matplotlib.axes._subplots.AxesSubplot at 0x1c0106f97f0>"
      ]
     },
     "execution_count": 16,
     "metadata": {},
     "output_type": "execute_result"
    },
    {
     "data": {
      "image/png": "[encoded data removed]",
      "text/plain": [
       "<Figure size 432x288 with 1 Axes>"
      ]
     },
     "metadata": {},
     "output_type": "display_data"
    }
   ],
   "source": [
    "time_series.plot(kind='bar', x = 'Hour', y = 'Count')"
   ]
  }
 ],
 "metadata": {
  "kernelspec": {
   "display_name": "Python 3",
   "language": "python",
   "name": "python3"
  },
  "language_info": {
   "codemirror_mode": {
    "name": "ipython",
    "version": 3
   },
   "file_extension": ".py",
   "mimetype": "text/x-python",
   "name": "python",
   "nbconvert_exporter": "python",
   "pygments_lexer": "ipython3",
   "version": "3.6.5"
  }
 },
 "nbformat": 4,
 "nbformat_minor": 2
}
